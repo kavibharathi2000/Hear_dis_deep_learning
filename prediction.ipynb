{
 "cells": [
  {
   "cell_type": "code",
   "execution_count": 5,
   "id": "f0967423",
   "metadata": {},
   "outputs": [],
   "source": [
    "from tensorflow.keras.models import load_model\n",
    "import pandas as pd\n",
    "import numpy as np"
   ]
  },
  {
   "cell_type": "code",
   "execution_count": 6,
   "id": "351bb250",
   "metadata": {},
   "outputs": [
    {
     "name": "stdout",
     "output_type": "stream",
     "text": [
      "Model: \"sequential_2\"\n",
      "_________________________________________________________________\n",
      " Layer (type)                Output Shape              Param #   \n",
      "=================================================================\n",
      " dense_12 (Dense)            (None, 13)                182       \n",
      "                                                                 \n",
      " dense_13 (Dense)            (None, 26)                364       \n",
      "                                                                 \n",
      " dropout_4 (Dropout)         (None, 26)                0         \n",
      "                                                                 \n",
      " dense_14 (Dense)            (None, 13)                351       \n",
      "                                                                 \n",
      " dense_15 (Dense)            (None, 6)                 84        \n",
      "                                                                 \n",
      " dropout_5 (Dropout)         (None, 6)                 0         \n",
      "                                                                 \n",
      " dense_16 (Dense)            (None, 3)                 21        \n",
      "                                                                 \n",
      " dense_17 (Dense)            (None, 1)                 4         \n",
      "                                                                 \n",
      "=================================================================\n",
      "Total params: 1,006\n",
      "Trainable params: 1,006\n",
      "Non-trainable params: 0\n",
      "_________________________________________________________________\n"
     ]
    }
   ],
   "source": [
    "model = load_model(\"/home/kavi/Documents/python/test_predict.h5\")\n",
    "model.summary()"
   ]
  },
  {
   "cell_type": "code",
   "execution_count": 7,
   "id": "e09fbbb1",
   "metadata": {},
   "outputs": [],
   "source": [
    "# loading the dataset\n",
    "data_file = pd.read_csv(\"/home/kavi/Downloads/heart.csv\")\n",
    "x_data = data_file.iloc[:,:-1].values\n",
    "y_data = data_file.iloc[:,-1:].values\n",
    "\n",
    "from sklearn.preprocessing import StandardScaler\n",
    "scaler = StandardScaler()\n",
    "x = scaler.fit_transform(x_data)\n",
    "\n",
    "from sklearn.model_selection import train_test_split\n",
    "x_train , x_test , y_train , y_test = train_test_split(x,y_data , test_size=0.2)\n"
   ]
  },
  {
   "cell_type": "code",
   "execution_count": 8,
   "id": "3f036a47",
   "metadata": {},
   "outputs": [
    {
     "name": "stdout",
     "output_type": "stream",
     "text": [
      "[[ 0.61379988  0.66150409 -0.91575542 -0.09205458 -0.77568481 -0.41887792\n",
      "  -1.00404855 -0.74427134  1.40392824  1.13112858 -0.6241209   1.20922066\n",
      "   1.08985168]\n",
      " [-1.37123217  0.66150409 -0.91575542  0.4791073  -0.38784241 -0.41887792\n",
      "   0.89125488  1.25620715 -0.71228712 -0.91232909  0.99543334 -0.73197147\n",
      "  -0.52212231]\n",
      " [-1.15067305  0.66150409 -0.91575542 -0.66321646 -1.49319326 -0.41887792\n",
      "   0.89125488 -0.22240739  1.40392824  1.47170486 -2.24367514 -0.73197147\n",
      "  -2.1340963 ]\n",
      " [-1.15067305 -1.51170646  1.02761788 -0.77744884 -0.07756848 -0.41887792\n",
      "   0.89125488 -0.00496407 -0.71228712 -0.65689688 -0.6241209   0.23862459\n",
      "  -0.52212231]]\n",
      "[[0]\n",
      " [1]\n",
      " [0]\n",
      " [1]]\n"
     ]
    }
   ],
   "source": [
    "x = x_test[11:15]\n",
    "y = y_test[11:15]\n",
    "print(x)\n",
    "print(y)"
   ]
  },
  {
   "cell_type": "code",
   "execution_count": null,
   "id": "de8a0ee0",
   "metadata": {},
   "outputs": [],
   "source": []
  }
 ],
 "metadata": {
  "kernelspec": {
   "display_name": "Python 3 (ipykernel)",
   "language": "python",
   "name": "python3"
  },
  "language_info": {
   "codemirror_mode": {
    "name": "ipython",
    "version": 3
   },
   "file_extension": ".py",
   "mimetype": "text/x-python",
   "name": "python",
   "nbconvert_exporter": "python",
   "pygments_lexer": "ipython3",
   "version": "3.9.13"
  }
 },
 "nbformat": 4,
 "nbformat_minor": 5
}
